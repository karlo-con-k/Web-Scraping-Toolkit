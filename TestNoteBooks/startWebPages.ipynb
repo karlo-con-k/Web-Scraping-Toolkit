{
 "cells": [
  {
   "cell_type": "code",
   "execution_count": 1,
   "metadata": {},
   "outputs": [],
   "source": [
    "import os\n",
    "startPage_Path   = os.environ['tools_Path']\n",
    "URL_ScrapeMaster = os.environ['URL_ScrapeMaster']\n",
    "user_octafx      = os.environ['user_octafx']\n",
    "password_octafx  = os.environ['password_octafx']\n",
    "user_Gmail       = os.environ['user_Gmail']\n",
    "password_Gmail   = os.environ['password_Gmail']\n",
    "\n",
    "import sys\n",
    "sys.path.append(startPage_Path)\n"
   ]
  },
  {
   "cell_type": "code",
   "execution_count": 2,
   "metadata": {},
   "outputs": [],
   "source": [
    "from tools.statBrowser import startDriver\n",
    "driver = startDriver()"
   ]
  },
  {
   "cell_type": "code",
   "execution_count": 3,
   "metadata": {},
   "outputs": [
    {
     "name": "stdout",
     "output_type": "stream",
     "text": [
      "Enter to gmail successfully\n",
      "The mail code is  6946\n"
     ]
    }
   ],
   "source": [
    "from tools.logInFunctions import logInOctafx\n",
    "logInOctafx(driver, user_octafx, password_octafx)"
   ]
  },
  {
   "cell_type": "code",
   "execution_count": null,
   "metadata": {},
   "outputs": [],
   "source": []
  }
 ],
 "metadata": {
  "kernelspec": {
   "display_name": "env",
   "language": "python",
   "name": "python3"
  },
  "language_info": {
   "codemirror_mode": {
    "name": "ipython",
    "version": 3
   },
   "file_extension": ".py",
   "mimetype": "text/x-python",
   "name": "python",
   "nbconvert_exporter": "python",
   "pygments_lexer": "ipython3",
   "version": "3.11.9"
  }
 },
 "nbformat": 4,
 "nbformat_minor": 2
}
