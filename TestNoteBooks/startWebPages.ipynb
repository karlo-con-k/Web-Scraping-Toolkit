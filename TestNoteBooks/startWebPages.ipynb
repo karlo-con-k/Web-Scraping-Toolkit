{
 "cells": [
  {
   "cell_type": "code",
   "execution_count": 7,
   "metadata": {},
   "outputs": [],
   "source": [
    "import os\n",
    "startPage_Path   = os.environ['tools_Path']\n",
    "URL_ScrapeMaster = os.environ['URL_ScrapeMaster']\n",
    "user_octafx      = os.environ['user_octafx']\n",
    "password_octafx  = os.environ['password_octafx']\n",
    "user_Gmail       = os.environ['user_Gmail']\n",
    "password_Gmail   = os.environ['password_Gmail']\n",
    "\n",
    "import sys\n",
    "sys.path.append(startPage_Path)\n"
   ]
  },
  {
   "cell_type": "code",
   "execution_count": 8,
   "metadata": {},
   "outputs": [],
   "source": [
    "from tools.statBrowser import startDriver\n",
    "driver = startDriver()"
   ]
  },
  {
   "cell_type": "code",
   "execution_count": 9,
   "metadata": {},
   "outputs": [
    {
     "name": "stdout",
     "output_type": "stream",
     "text": [
      "Enter to gmail successfully\n",
      "The mail code is  1844\n"
     ]
    }
   ],
   "source": [
    "from tools.logInFunctions import logInOctafx\n",
    "logInOctafx(driver, user_octafx, password_octafx)"
   ]
  },
  {
   "cell_type": "code",
   "execution_count": 10,
   "metadata": {},
   "outputs": [],
   "source": [
    "from tools.getData import prepareWebPageOctafx\n",
    "from tools.getData import getDataOCtafx\n",
    "\n",
    "prepareWebPageOctafx(driver)"
   ]
  },
  {
   "cell_type": "code",
   "execution_count": 11,
   "metadata": {},
   "outputs": [],
   "source": [
    "time_serie = getDataOCtafx(driver = driver, time_to_get = 5)"
   ]
  },
  {
   "cell_type": "code",
   "execution_count": 12,
   "metadata": {},
   "outputs": [
    {
     "data": {
      "text/plain": [
       "[(1.06432, datetime.datetime(2024, 4, 18, 17, 59, 52, 704507)),\n",
       " (1.06431, datetime.datetime(2024, 4, 18, 17, 59, 53, 709783)),\n",
       " (1.06429, datetime.datetime(2024, 4, 18, 17, 59, 54, 715698)),\n",
       " (1.0643, datetime.datetime(2024, 4, 18, 17, 59, 55, 720972)),\n",
       " (1.0643, datetime.datetime(2024, 4, 18, 17, 59, 56, 726257)),\n",
       " (1.0643, datetime.datetime(2024, 4, 18, 17, 59, 57, 736918)),\n",
       " (1.0643, datetime.datetime(2024, 4, 18, 17, 59, 58, 741586)),\n",
       " (1.0643, datetime.datetime(2024, 4, 18, 17, 59, 59, 747868)),\n",
       " (1.06431, datetime.datetime(2024, 4, 18, 18, 0, 0, 753126)),\n",
       " (1.06431, datetime.datetime(2024, 4, 18, 18, 0, 1, 758696))]"
      ]
     },
     "execution_count": 12,
     "metadata": {},
     "output_type": "execute_result"
    }
   ],
   "source": [
    "time_serie"
   ]
  },
  {
   "cell_type": "code",
   "execution_count": null,
   "metadata": {},
   "outputs": [],
   "source": []
  }
 ],
 "metadata": {
  "kernelspec": {
   "display_name": "env",
   "language": "python",
   "name": "python3"
  },
  "language_info": {
   "codemirror_mode": {
    "name": "ipython",
    "version": 3
   },
   "file_extension": ".py",
   "mimetype": "text/x-python",
   "name": "python",
   "nbconvert_exporter": "python",
   "pygments_lexer": "ipython3",
   "version": "3.11.9"
  }
 },
 "nbformat": 4,
 "nbformat_minor": 2
}
